{
 "cells": [
  {
   "cell_type": "code",
   "execution_count": 1,
   "id": "c48a2c09",
   "metadata": {},
   "outputs": [],
   "source": [
    "import pandas as pd\n",
    "import numpy as np\n",
    "from matplotlib import pyplot as plt\n",
    "%matplotlib inline"
   ]
  },
  {
   "cell_type": "code",
   "execution_count": 2,
   "id": "613be2ff",
   "metadata": {},
   "outputs": [
    {
     "data": {
      "text/html": [
       "<div>\n",
       "<style scoped>\n",
       "    .dataframe tbody tr th:only-of-type {\n",
       "        vertical-align: middle;\n",
       "    }\n",
       "\n",
       "    .dataframe tbody tr th {\n",
       "        vertical-align: top;\n",
       "    }\n",
       "\n",
       "    .dataframe thead th {\n",
       "        text-align: right;\n",
       "    }\n",
       "</style>\n",
       "<table border=\"1\" class=\"dataframe\">\n",
       "  <thead>\n",
       "    <tr style=\"text-align: right;\">\n",
       "      <th></th>\n",
       "      <th>time</th>\n",
       "      <th>voltage</th>\n",
       "      <th>current</th>\n",
       "      <th>temperature</th>\n",
       "      <th>SOC</th>\n",
       "    </tr>\n",
       "  </thead>\n",
       "  <tbody>\n",
       "    <tr>\n",
       "      <th>17</th>\n",
       "      <td>18</td>\n",
       "      <td>3.20</td>\n",
       "      <td>20</td>\n",
       "      <td>20</td>\n",
       "      <td>15</td>\n",
       "    </tr>\n",
       "    <tr>\n",
       "      <th>2</th>\n",
       "      <td>3</td>\n",
       "      <td>4.00</td>\n",
       "      <td>80</td>\n",
       "      <td>24</td>\n",
       "      <td>90</td>\n",
       "    </tr>\n",
       "    <tr>\n",
       "      <th>7</th>\n",
       "      <td>8</td>\n",
       "      <td>3.77</td>\n",
       "      <td>80</td>\n",
       "      <td>25</td>\n",
       "      <td>65</td>\n",
       "    </tr>\n",
       "    <tr>\n",
       "      <th>12</th>\n",
       "      <td>13</td>\n",
       "      <td>3.70</td>\n",
       "      <td>50</td>\n",
       "      <td>20</td>\n",
       "      <td>40</td>\n",
       "    </tr>\n",
       "    <tr>\n",
       "      <th>6</th>\n",
       "      <td>7</td>\n",
       "      <td>3.78</td>\n",
       "      <td>80</td>\n",
       "      <td>25</td>\n",
       "      <td>70</td>\n",
       "    </tr>\n",
       "  </tbody>\n",
       "</table>\n",
       "</div>"
      ],
      "text/plain": [
       "    time  voltage  current  temperature  SOC\n",
       "17    18     3.20       20           20   15\n",
       "2      3     4.00       80           24   90\n",
       "7      8     3.77       80           25   65\n",
       "12    13     3.70       50           20   40\n",
       "6      7     3.78       80           25   70"
      ]
     },
     "execution_count": 2,
     "metadata": {},
     "output_type": "execute_result"
    }
   ],
   "source": [
    "df = pd.read_csv(\"battery.csv\")\n",
    "df.sample(5)"
   ]
  },
  {
   "cell_type": "code",
   "execution_count": 5,
   "id": "3fa2bbab",
   "metadata": {},
   "outputs": [
    {
     "data": {
      "text/plain": [
       "array([[0.        , 1.        , 1.        , 0.71428571],\n",
       "       [0.05882353, 0.9       , 0.88888889, 1.        ],\n",
       "       [0.11764706, 0.8       , 0.77777778, 0.57142857],\n",
       "       [0.17647059, 0.7       , 0.77777778, 0.42857143],\n",
       "       [0.23529412, 0.6       , 0.77777778, 0.71428571],\n",
       "       [0.29411765, 0.59      , 0.77777778, 0.71428571],\n",
       "       [0.35294118, 0.58      , 0.77777778, 0.71428571],\n",
       "       [0.41176471, 0.57      , 0.77777778, 0.71428571],\n",
       "       [0.47058824, 0.56      , 0.77777778, 0.71428571],\n",
       "       [0.52941176, 0.55      , 0.77777778, 0.71428571],\n",
       "       [0.58823529, 0.54      , 0.77777778, 0.71428571],\n",
       "       [0.64705882, 0.53      , 0.55555556, 0.14285714],\n",
       "       [0.70588235, 0.5       , 0.44444444, 0.        ],\n",
       "       [0.76470588, 0.4       , 0.33333333, 0.71428571],\n",
       "       [0.82352941, 0.3       , 0.22222222, 0.57142857],\n",
       "       [0.88235294, 0.2       , 0.11111111, 0.        ],\n",
       "       [0.94117647, 0.1       , 0.        , 0.71428571],\n",
       "       [1.        , 0.        , 0.11111111, 0.        ]])"
      ]
     },
     "execution_count": 5,
     "metadata": {},
     "output_type": "execute_result"
    }
   ],
   "source": [
    "from sklearn import preprocessing\n",
    "\n",
    "sx = preprocessing.MinMaxScaler()\n",
    "sy = preprocessing.MinMaxScaler()\n",
    "\n",
    "scaled_features = sx.fit_transform(df.drop('SOC', axis='columns'))\n",
    "scaled_features"
   ]
  },
  {
   "cell_type": "code",
   "execution_count": 8,
   "id": "75375a49",
   "metadata": {},
   "outputs": [
    {
     "data": {
      "text/plain": [
       "array([[1.        ],\n",
       "       [0.94117647],\n",
       "       [0.88235294],\n",
       "       [0.82352941],\n",
       "       [0.76470588],\n",
       "       [0.70588235],\n",
       "       [0.64705882],\n",
       "       [0.58823529],\n",
       "       [0.52941176],\n",
       "       [0.47058824],\n",
       "       [0.41176471],\n",
       "       [0.35294118],\n",
       "       [0.29411765],\n",
       "       [0.23529412],\n",
       "       [0.17647059],\n",
       "       [0.11764706],\n",
       "       [0.05882353],\n",
       "       [0.        ]])"
      ]
     },
     "execution_count": 8,
     "metadata": {},
     "output_type": "execute_result"
    }
   ],
   "source": [
    "scaled_SOC = sy.fit_transform(df['SOC'].values.reshape(df.shape[0],1))\n",
    "scaled_SOC"
   ]
  },
  {
   "cell_type": "code",
   "execution_count": 11,
   "id": "2479d439",
   "metadata": {},
   "outputs": [
    {
     "data": {
      "text/plain": [
       "array([1., 1., 1., 1.])"
      ]
     },
     "execution_count": 11,
     "metadata": {},
     "output_type": "execute_result"
    }
   ],
   "source": [
    "np.ones(shape = (4))"
   ]
  },
  {
   "cell_type": "code",
   "execution_count": 12,
   "id": "0a1ce306",
   "metadata": {},
   "outputs": [
    {
     "data": {
      "text/plain": [
       "4"
      ]
     },
     "execution_count": 12,
     "metadata": {},
     "output_type": "execute_result"
    }
   ],
   "source": [
    "scaled_features.shape[1]"
   ]
  },
  {
   "cell_type": "code",
   "execution_count": 13,
   "id": "48b4680d",
   "metadata": {},
   "outputs": [
    {
     "data": {
      "text/plain": [
       "18"
      ]
     },
     "execution_count": 13,
     "metadata": {},
     "output_type": "execute_result"
    }
   ],
   "source": [
    "scaled_features.shape[0]"
   ]
  },
  {
   "cell_type": "code",
   "execution_count": 79,
   "id": "6abae1c0",
   "metadata": {},
   "outputs": [],
   "source": [
    "def batch_gradient_descent(x, y_true, epochs, learning_rate):\n",
    "    \n",
    "    number_of_features = x.shape[1] # 4\n",
    "    \n",
    "    weights = np.ones(shape=(number_of_features))\n",
    "    bias = 0 #bias\n",
    "    total_samples = x.shape[0]\n",
    "    \n",
    "    cost_list = []\n",
    "    epoch_list = []\n",
    "    \n",
    "    for i in range(epochs):\n",
    "        y_predicted = np.dot(weights, scaled_features.T) + bias # y_predicted = w[0]*time + w[1]*voltage + ... + bias\n",
    "        \n",
    "        weight_gradient = -(2/total_samples)*(x.T.dot(y_true-y_predicted)) #why 2?\n",
    "        bias_gradient = -(2/total_samples)*np.sum(y_true-y_predicted)\n",
    "        #weight_gradient = -(1/total_samples)*(x.T.dot(y_true-y_predicted)) # 1 is also working\n",
    "        #bias_gradient = -(1/total_samples)*np.sum(y_true-y_predicted)\n",
    "        \n",
    "        \n",
    "        weights = weights - learning_rate*weight_gradient\n",
    "        bias = bias - learning_rate*bias_gradient\n",
    "        \n",
    "        cost = np.mean(np.square(y_true-y_predicted))\n",
    "        \n",
    "        if i%10==0:\n",
    "            cost_list.append(cost)\n",
    "            epoch_list.append(i)\n",
    "            print(f'cost:{cost}, weights:{weights}')\n",
    "                  \n",
    "    return weights, bias, cost, cost_list, epoch_list"
   ]
  },
  {
   "cell_type": "code",
   "execution_count": 80,
   "id": "3cd23b9d",
   "metadata": {},
   "outputs": [
    {
     "data": {
      "text/plain": [
       "array([1.        , 0.94117647, 0.88235294, 0.82352941, 0.76470588,\n",
       "       0.70588235, 0.64705882, 0.58823529, 0.52941176, 0.47058824,\n",
       "       0.41176471, 0.35294118, 0.29411765, 0.23529412, 0.17647059,\n",
       "       0.11764706, 0.05882353, 0.        ])"
      ]
     },
     "execution_count": 80,
     "metadata": {},
     "output_type": "execute_result"
    }
   ],
   "source": [
    "scaled_SOC.reshape(scaled_SOC.shape[0],)"
   ]
  },
  {
   "cell_type": "code",
   "execution_count": 81,
   "id": "de7b4d38",
   "metadata": {},
   "outputs": [
    {
     "name": "stdout",
     "output_type": "stream",
     "text": [
      "cost:2.869758293440833, weights:[0.98371715 0.98211606 0.97947921 0.98030436]\n",
      "cost:1.1871308990153506, weights:[0.85415868 0.84253307 0.81902455 0.82481916]\n",
      "cost:0.506595432988129, weights:[0.76920595 0.75545717 0.71842809 0.72483306]\n",
      "cost:0.2310244554976644, weights:[0.71270498 0.70170701 0.65582167 0.66011196]\n",
      "cost:0.1191275419079109, weights:[0.6743828  0.66909165 0.61730684 0.61779488]\n",
      "cost:0.07340113971340462, weights:[0.64770496 0.64986368 0.59405119 0.58970766]\n",
      "cost:0.05444333983493701, weights:[0.62851373 0.63910019 0.58044253 0.5706554 ]\n",
      "cost:0.04633017397881965, weights:[0.61416235 0.63367366 0.57291557 0.55733694]\n",
      "cost:0.04262485112026169, weights:[0.60296472 0.6315978  0.56920607 0.54765489]\n",
      "cost:0.04072435211189996, weights:[0.59384558 0.63161163 0.56787677 0.54027698]\n",
      "cost:0.039574984930702196, weights:[0.58611811 0.63291522 0.56801598 0.53435727]\n",
      "cost:0.03874927078063931, weights:[0.57934255 0.63500159 0.56904601 0.52935894]\n",
      "cost:0.03807291804356488, weights:[0.57323638 0.63754995 0.57060142 0.52494157]\n",
      "cost:0.03747407694901359, weights:[0.5676171  0.64035779 0.57245162 0.52088959]\n",
      "cost:0.03692241457318192, weights:[0.56236598 0.64329771 0.57445162 0.51706673]\n",
      "cost:0.03640448548127895, weights:[0.55740493 0.64629002 0.57651083 0.51338709]\n",
      "cost:0.03591376966910808, weights:[0.5526818  0.64928529 0.57857314 0.50979675]\n",
      "cost:0.035446638139103454, weights:[0.54816105 0.65225327 0.58060427 0.50626207]\n",
      "cost:0.03500071451009836, weights:[0.54381783 0.65517586 0.58258382 0.50276231]\n",
      "cost:0.03457420554110175, weights:[0.53963416 0.65804261 0.58450008 0.49928484]\n",
      "cost:0.034165623834163605, weights:[0.53559652 0.66084792 0.58634686 0.4958222 ]\n",
      "cost:0.033773669610571294, weights:[0.53169436 0.66358921 0.5881214  0.49237013]\n",
      "cost:0.03339717731349176, weights:[0.52791907 0.66626577 0.58982308 0.48892646]\n",
      "cost:0.03303508890502111, weights:[0.52426337 0.66887804 0.59145257 0.48549023]\n",
      "cost:0.032686438404825414, weights:[0.52072091 0.67142719 0.59301133 0.4820613 ]\n",
      "cost:0.032350341385730084, weights:[0.51728601 0.67391474 0.59450129 0.47863995]\n",
      "cost:0.03202598684989124, weights:[0.51395348 0.67634248 0.59592459 0.47522678]\n",
      "cost:0.0317126304109053, weights:[0.51071854 0.67871229 0.59728353 0.47182253]\n",
      "cost:0.031409588317016644, weights:[0.5075767  0.68102606 0.59858039 0.46842799]\n",
      "cost:0.031116232099717867, weights:[0.50452375 0.68328571 0.59981748 0.465044  ]\n",
      "cost:0.030831983735186988, weights:[0.5015557  0.6854931  0.60099704 0.4616714 ]\n",
      "cost:0.030556311249947454, weights:[0.49866878 0.68765006 0.60212124 0.458311  ]\n",
      "cost:0.03028872472195176, weights:[0.49585939 0.68975834 0.60319219 0.45496357]\n",
      "cost:0.03002877263817056, weights:[0.49312412 0.69181963 0.60421192 0.45162988]\n",
      "cost:0.029776038575473278, weights:[0.4904597  0.69383557 0.60518238 0.44831061]\n",
      "cost:0.02953013817544389, weights:[0.48786304 0.69580772 0.60610544 0.44500644]\n",
      "cost:0.02929071638675609, weights:[0.48533117 0.69773759 0.6069829  0.441718  ]\n",
      "cost:0.029057444951225666, weights:[0.48286126 0.69962661 0.60781646 0.43844587]\n",
      "cost:0.02883002011184314, weights:[0.48045061 0.70147617 0.60860777 0.4351906 ]\n",
      "cost:0.02860816052304503, weights:[0.47809666 0.70328758 0.60935841 0.4319527 ]\n",
      "cost:0.028391605345248278, weights:[0.47579693 0.70506212 0.61006988 0.42873265]\n",
      "cost:0.028180112507275836, weights:[0.47354909 0.70680099 0.61074363 0.42553088]\n",
      "cost:0.027973457121760272, weights:[0.47135089 0.70850537 0.61138104 0.42234783]\n",
      "cost:0.02777143003993907, weights:[0.46920019 0.71017636 0.61198343 0.41918385]\n",
      "cost:0.02757383653346533, weights:[0.46709496 0.71181504 0.61255207 0.4160393 ]\n",
      "cost:0.027380495091957995, weights:[0.46503323 0.71342243 0.61308816 0.41291451]\n",
      "cost:0.02719123632601948, weights:[0.46301314 0.7149995  0.61359287 0.40980977]\n",
      "cost:0.027005901966362482, weights:[0.46103293 0.71654721 0.61406731 0.40672535]\n",
      "cost:0.026824343950519816, weights:[0.45909088 0.71806644 0.61451254 0.4036615 ]\n",
      "cost:0.026646423589369788, weights:[0.45718538 0.71955808 0.61492959 0.40061845]\n"
     ]
    },
    {
     "data": {
      "text/plain": [
       "(array([0.4555004 , 0.72087764, 0.61528164, 0.39789765]),\n",
       " -0.6954074827401084,\n",
       " 0.026489297784277808)"
      ]
     },
     "execution_count": 81,
     "metadata": {},
     "output_type": "execute_result"
    }
   ],
   "source": [
    "weights, bias, cost,  cost_list, epoch_list = batch_gradient_descent(scaled_features, scaled_SOC.reshape(scaled_SOC.shape[0],), 500, 0.01)\n",
    "\n",
    "weights, bias, cost"
   ]
  },
  {
   "cell_type": "code",
   "execution_count": 82,
   "id": "c06f0ceb",
   "metadata": {},
   "outputs": [
    {
     "data": {
      "text/plain": [
       "[<matplotlib.lines.Line2D at 0x2898d76f430>]"
      ]
     },
     "execution_count": 82,
     "metadata": {},
     "output_type": "execute_result"
    },
    {
     "data": {
      "image/png": "[encoded data removed]",
      "text/plain": [
       "<Figure size 640x480 with 1 Axes>"
      ]
     },
     "metadata": {},
     "output_type": "display_data"
    }
   ],
   "source": [
    "plt.xlabel(\"epoch\")\n",
    "plt.ylabel(\"cost\")\n",
    "plt.plot(epoch_list, cost_list)"
   ]
  },
  {
   "cell_type": "code",
   "execution_count": 84,
   "id": "77897606",
   "metadata": {},
   "outputs": [
    {
     "data": {
      "text/plain": [
       "array([0.4555004 , 0.72087764, 0.61528164, 0.39789765])"
      ]
     },
     "execution_count": 84,
     "metadata": {},
     "output_type": "execute_result"
    }
   ],
   "source": [
    "weights"
   ]
  },
  {
   "cell_type": "code",
   "execution_count": 88,
   "id": "ae32606a",
   "metadata": {},
   "outputs": [
    {
     "name": "stderr",
     "output_type": "stream",
     "text": [
      "C:\\ProgramData\\Anaconda3\\lib\\site-packages\\sklearn\\base.py:450: UserWarning: X does not have valid feature names, but MinMaxScaler was fitted with feature names\n",
      "  warnings.warn(\n"
     ]
    },
    {
     "data": {
      "text/plain": [
       "array([0.        , 1.        , 0.44444444, 0.        ])"
      ]
     },
     "execution_count": 88,
     "metadata": {},
     "output_type": "execute_result"
    }
   ],
   "source": [
    "sx.transform([[1, 4.2, 50, 20]])[0]"
   ]
  },
  {
   "cell_type": "code",
   "execution_count": 93,
   "id": "4d1ff468",
   "metadata": {},
   "outputs": [
    {
     "data": {
      "text/plain": [
       "array([[100. ,  57.5,  23.5,  15. ]])"
      ]
     },
     "execution_count": 93,
     "metadata": {},
     "output_type": "execute_result"
    }
   ],
   "source": [
    "sy.inverse_transform([[1,0.5,0.1,0]])"
   ]
  },
  {
   "cell_type": "code",
   "execution_count": 98,
   "id": "8c362702",
   "metadata": {},
   "outputs": [],
   "source": [
    "def predict(time, voltage, current, temperature, weights, bias):\n",
    "    scaled_features = sx.transform([[time, voltage, current, temperature]])[0]\n",
    "    \n",
    "    #scaled_SOC = np.dot(weights, scaled_features.T) + bias\n",
    "    scaled_SOC = weights[0]*scaled_features[0] + weights[1]*scaled_features[1] + weights[2]*scaled_features[2] + weights[3]*scaled_features[3]+ bias\n",
    "    return sy.inverse_transform([[scaled_SOC]])[0][0]\n"
   ]
  },
  {
   "cell_type": "code",
   "execution_count": 99,
   "id": "9730d194",
   "metadata": {},
   "outputs": [
    {
     "name": "stderr",
     "output_type": "stream",
     "text": [
      "C:\\ProgramData\\Anaconda3\\lib\\site-packages\\sklearn\\base.py:450: UserWarning: X does not have valid feature names, but MinMaxScaler was fitted with feature names\n",
      "  warnings.warn(\n"
     ]
    },
    {
     "data": {
      "text/plain": [
       "64.56700751767883"
      ]
     },
     "execution_count": 99,
     "metadata": {},
     "output_type": "execute_result"
    }
   ],
   "source": [
    "predict(1, 4.2, 50, 25, weights, bias)"
   ]
  },
  {
   "cell_type": "code",
   "execution_count": 100,
   "id": "c635c67d",
   "metadata": {},
   "outputs": [
    {
     "name": "stderr",
     "output_type": "stream",
     "text": [
      "C:\\ProgramData\\Anaconda3\\lib\\site-packages\\sklearn\\base.py:450: UserWarning: X does not have valid feature names, but MinMaxScaler was fitted with feature names\n",
      "  warnings.warn(\n"
     ]
    },
    {
     "data": {
      "text/plain": [
       "52.312087690466946"
      ]
     },
     "execution_count": 100,
     "metadata": {},
     "output_type": "execute_result"
    }
   ],
   "source": [
    "predict(1, 4.0, 50, 25, weights, bias)"
   ]
  },
  {
   "cell_type": "code",
   "execution_count": null,
   "id": "8c602e42",
   "metadata": {},
   "outputs": [],
   "source": []
  }
 ],
 "metadata": {
  "kernelspec": {
   "display_name": "Python 3 (ipykernel)",
   "language": "python",
   "name": "python3"
  },
  "language_info": {
   "codemirror_mode": {
    "name": "ipython",
    "version": 3
   },
   "file_extension": ".py",
   "mimetype": "text/x-python",
   "name": "python",
   "nbconvert_exporter": "python",
   "pygments_lexer": "ipython3",
   "version": "3.9.13"
  }
 },
 "nbformat": 4,
 "nbformat_minor": 5
}
