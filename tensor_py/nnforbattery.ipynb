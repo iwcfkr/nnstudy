{
 "cells": [
  {
   "cell_type": "code",
   "execution_count": 1,
   "id": "bc84211b",
   "metadata": {},
   "outputs": [],
   "source": [
    "import pandas as pd\n",
    "import numpy as np\n",
    "from matplotlib import pyplot as plt\n",
    "%matplotlib inline"
   ]
  },
  {
   "cell_type": "code",
   "execution_count": 2,
   "id": "5fe633d0",
   "metadata": {},
   "outputs": [
    {
     "data": {
      "text/html": [
       "<div>\n",
       "<style scoped>\n",
       "    .dataframe tbody tr th:only-of-type {\n",
       "        vertical-align: middle;\n",
       "    }\n",
       "\n",
       "    .dataframe tbody tr th {\n",
       "        vertical-align: top;\n",
       "    }\n",
       "\n",
       "    .dataframe thead th {\n",
       "        text-align: right;\n",
       "    }\n",
       "</style>\n",
       "<table border=\"1\" class=\"dataframe\">\n",
       "  <thead>\n",
       "    <tr style=\"text-align: right;\">\n",
       "      <th></th>\n",
       "      <th>time</th>\n",
       "      <th>voltage</th>\n",
       "      <th>current</th>\n",
       "      <th>temperature</th>\n",
       "      <th>SOC</th>\n",
       "    </tr>\n",
       "  </thead>\n",
       "  <tbody>\n",
       "    <tr>\n",
       "      <th>7</th>\n",
       "      <td>2</td>\n",
       "      <td>3.77</td>\n",
       "      <td>80</td>\n",
       "      <td>25</td>\n",
       "      <td>65</td>\n",
       "    </tr>\n",
       "    <tr>\n",
       "      <th>3</th>\n",
       "      <td>1</td>\n",
       "      <td>3.90</td>\n",
       "      <td>80</td>\n",
       "      <td>23</td>\n",
       "      <td>85</td>\n",
       "    </tr>\n",
       "    <tr>\n",
       "      <th>13</th>\n",
       "      <td>1</td>\n",
       "      <td>3.60</td>\n",
       "      <td>40</td>\n",
       "      <td>25</td>\n",
       "      <td>35</td>\n",
       "    </tr>\n",
       "    <tr>\n",
       "      <th>14</th>\n",
       "      <td>1</td>\n",
       "      <td>3.50</td>\n",
       "      <td>30</td>\n",
       "      <td>24</td>\n",
       "      <td>30</td>\n",
       "    </tr>\n",
       "    <tr>\n",
       "      <th>17</th>\n",
       "      <td>1</td>\n",
       "      <td>3.20</td>\n",
       "      <td>20</td>\n",
       "      <td>20</td>\n",
       "      <td>15</td>\n",
       "    </tr>\n",
       "  </tbody>\n",
       "</table>\n",
       "</div>"
      ],
      "text/plain": [
       "    time  voltage  current  temperature  SOC\n",
       "7      2     3.77       80           25   65\n",
       "3      1     3.90       80           23   85\n",
       "13     1     3.60       40           25   35\n",
       "14     1     3.50       30           24   30\n",
       "17     1     3.20       20           20   15"
      ]
     },
     "execution_count": 2,
     "metadata": {},
     "output_type": "execute_result"
    }
   ],
   "source": [
    "df = pd.read_csv(\"battery.csv\")\n",
    "df.sample(5)"
   ]
  },
  {
   "cell_type": "code",
   "execution_count": 3,
   "id": "41ec26aa",
   "metadata": {},
   "outputs": [
    {
     "data": {
      "text/plain": [
       "array([[0.        , 1.        , 1.        , 0.71428571],\n",
       "       [0.        , 0.9       , 0.88888889, 1.        ],\n",
       "       [0.        , 0.8       , 0.77777778, 0.57142857],\n",
       "       [0.        , 0.7       , 0.77777778, 0.42857143],\n",
       "       [1.        , 0.6       , 0.77777778, 0.71428571],\n",
       "       [1.        , 0.59      , 0.77777778, 0.71428571],\n",
       "       [1.        , 0.58      , 0.77777778, 0.71428571],\n",
       "       [1.        , 0.57      , 0.77777778, 0.71428571],\n",
       "       [1.        , 0.56      , 0.77777778, 0.71428571],\n",
       "       [1.        , 0.55      , 0.77777778, 0.71428571],\n",
       "       [1.        , 0.54      , 0.77777778, 0.71428571],\n",
       "       [0.        , 0.53      , 0.55555556, 0.14285714],\n",
       "       [0.        , 0.5       , 0.44444444, 0.        ],\n",
       "       [0.        , 0.4       , 0.33333333, 0.71428571],\n",
       "       [0.        , 0.3       , 0.22222222, 0.57142857],\n",
       "       [0.        , 0.2       , 0.11111111, 0.        ],\n",
       "       [0.        , 0.1       , 0.        , 0.71428571],\n",
       "       [0.        , 0.        , 0.11111111, 0.        ]])"
      ]
     },
     "execution_count": 3,
     "metadata": {},
     "output_type": "execute_result"
    }
   ],
   "source": [
    "from sklearn import preprocessing\n",
    "\n",
    "sx = preprocessing.MinMaxScaler()\n",
    "sy = preprocessing.MinMaxScaler()\n",
    "\n",
    "scaled_features = sx.fit_transform(df.drop('SOC', axis='columns'))\n",
    "scaled_features"
   ]
  },
  {
   "cell_type": "code",
   "execution_count": 4,
   "id": "e8ff2871",
   "metadata": {},
   "outputs": [
    {
     "data": {
      "text/plain": [
       "array([[1.        ],\n",
       "       [0.94117647],\n",
       "       [0.88235294],\n",
       "       [0.82352941],\n",
       "       [0.76470588],\n",
       "       [0.70588235],\n",
       "       [0.64705882],\n",
       "       [0.58823529],\n",
       "       [0.52941176],\n",
       "       [0.47058824],\n",
       "       [0.41176471],\n",
       "       [0.35294118],\n",
       "       [0.29411765],\n",
       "       [0.23529412],\n",
       "       [0.17647059],\n",
       "       [0.11764706],\n",
       "       [0.05882353],\n",
       "       [0.        ]])"
      ]
     },
     "execution_count": 4,
     "metadata": {},
     "output_type": "execute_result"
    }
   ],
   "source": [
    "scaled_SOC = sy.fit_transform(df['SOC'].values.reshape(df.shape[0],1))\n",
    "scaled_SOC"
   ]
  },
  {
   "cell_type": "code",
   "execution_count": 5,
   "id": "31168ccf",
   "metadata": {},
   "outputs": [
    {
     "data": {
      "text/plain": [
       "array([1., 1., 1., 1.])"
      ]
     },
     "execution_count": 5,
     "metadata": {},
     "output_type": "execute_result"
    }
   ],
   "source": [
    "np.ones(shape = (4))"
   ]
  },
  {
   "cell_type": "code",
   "execution_count": 6,
   "id": "aa4fcbf5",
   "metadata": {},
   "outputs": [
    {
     "data": {
      "text/plain": [
       "4"
      ]
     },
     "execution_count": 6,
     "metadata": {},
     "output_type": "execute_result"
    }
   ],
   "source": [
    "scaled_features.shape[1]"
   ]
  },
  {
   "cell_type": "code",
   "execution_count": 7,
   "id": "3e705705",
   "metadata": {},
   "outputs": [
    {
     "data": {
      "text/plain": [
       "18"
      ]
     },
     "execution_count": 7,
     "metadata": {},
     "output_type": "execute_result"
    }
   ],
   "source": [
    "scaled_features.shape[0]"
   ]
  },
  {
   "cell_type": "code",
   "execution_count": 8,
   "id": "bf441243",
   "metadata": {},
   "outputs": [],
   "source": [
    "def batch_gradient_descent(x, y_true, epochs, learning_rate):\n",
    "    \n",
    "    number_of_features = x.shape[1] # 4\n",
    "    \n",
    "    weights = np.ones(shape=(number_of_features))\n",
    "    bias = 0 #bias\n",
    "    total_samples = x.shape[0]\n",
    "    \n",
    "    cost_list = []\n",
    "    epoch_list = []\n",
    "    \n",
    "    for i in range(epochs):\n",
    "        y_predicted = np.dot(weights, scaled_features.T) + bias # y_predicted = w[0]*time + w[1]*voltage + ... + bias\n",
    "        \n",
    "        weight_gradient = -(2/total_samples)*(x.T.dot(y_true-y_predicted)) #why 2?\n",
    "        bias_gradient = -(2/total_samples)*np.sum(y_true-y_predicted)\n",
    "        #weight_gradient = -(1/total_samples)*(x.T.dot(y_true-y_predicted)) # 1 is also working\n",
    "        #bias_gradient = -(1/total_samples)*np.sum(y_true-y_predicted)\n",
    "        \n",
    "        \n",
    "        weights = weights - learning_rate*weight_gradient\n",
    "        bias = bias - learning_rate*bias_gradient\n",
    "        \n",
    "        cost = np.mean(np.square(y_true-y_predicted))\n",
    "        \n",
    "        if i%10==0:\n",
    "            cost_list.append(cost)\n",
    "            epoch_list.append(i)\n",
    "            print(f'cost:{cost}, weights:{weights}')\n",
    "                  \n",
    "    return weights, bias, cost, cost_list, epoch_list"
   ]
  },
  {
   "cell_type": "code",
   "execution_count": 9,
   "id": "58d5c19c",
   "metadata": {},
   "outputs": [
    {
     "data": {
      "text/plain": [
       "array([1.        , 0.94117647, 0.88235294, 0.82352941, 0.76470588,\n",
       "       0.70588235, 0.64705882, 0.58823529, 0.52941176, 0.47058824,\n",
       "       0.41176471, 0.35294118, 0.29411765, 0.23529412, 0.17647059,\n",
       "       0.11764706, 0.05882353, 0.        ])"
      ]
     },
     "execution_count": 9,
     "metadata": {},
     "output_type": "execute_result"
    }
   ],
   "source": [
    "scaled_SOC.reshape(scaled_SOC.shape[0],)"
   ]
  },
  {
   "cell_type": "code",
   "execution_count": 10,
   "id": "a27af225",
   "metadata": {},
   "outputs": [
    {
     "name": "stdout",
     "output_type": "stream",
     "text": [
      "cost:3.1198101660417255, weights:[0.98075911 0.98147881 0.97769998 0.97923994]\n",
      "cost:1.3636917241746556, weights:[0.82337217 0.8367148  0.8018284  0.81480839]\n",
      "cost:0.6474738811919699, weights:[0.7131652  0.74602105 0.68904098 0.70817151]\n",
      "cost:0.3515311237656136, weights:[0.63335965 0.68961228 0.61636538 0.63829739]\n",
      "cost:0.22574264524290902, weights:[0.57327878 0.65492205 0.56920639 0.59182329]\n",
      "cost:0.16911989895002533, weights:[0.52612295 0.63396985 0.53829065 0.56025863]\n",
      "cost:0.1408660535577184, weights:[0.48755629 0.62168841 0.51772582 0.53820808]\n",
      "cost:0.1244801575147676, weights:[0.45480878 0.61486115 0.50376748 0.52224279]\n",
      "cost:0.11326967281418401, weights:[0.42610581 0.61144704 0.49403582 0.51018319]\n",
      "cost:0.1045032456152453, weights:[0.40030573 0.61015179 0.48701796 0.50064345]\n",
      "cost:0.09705061335074623, weights:[0.37666957 0.6101554  0.48175183 0.49274198]\n",
      "cost:0.09042990380437263, weights:[0.35471478 0.61093909 0.47762532 0.48591765]\n",
      "cost:0.0844229594324522, weights:[0.33412219 0.61217535 0.47424867 0.47981286]\n",
      "cost:0.07891992518118976, weights:[0.31467697 0.61365808 0.47137339 0.47419943]\n",
      "cost:0.07385637763119939, weights:[0.29623106 0.61525825 0.46884082 0.4689314 ]\n",
      "cost:0.06918781467297944, weights:[0.27867927 0.61689568 0.46654932 0.46391508]\n",
      "cost:0.06487923433186076, weights:[0.26194412 0.61852118 0.4644336  0.45909002]\n",
      "cost:0.060900813366535154, weights:[0.24596617 0.62010514 0.46245139 0.45441692]\n",
      "cost:0.05722605682620849, weights:[0.23069783 0.62163035 0.46057515 0.44986998]\n",
      "cost:0.05383095328602207, weights:[0.21609946 0.62308739 0.45878668 0.44543195]\n",
      "cost:0.050693543720121866, weights:[0.20213685 0.62447172 0.45707375 0.44109108]\n",
      "cost:0.04779366445600042, weights:[0.1887796  0.62578187 0.45542795 0.43683914]\n",
      "cost:0.04511276696175092, weights:[0.17600009 0.62701821 0.45384331 0.43267016]\n",
      "cost:0.04263377469686961, weights:[0.1637728  0.62818226 0.45231546 0.42857962]\n",
      "cost:0.04034096049648993, weights:[0.15207388 0.6292762  0.45084101 0.42456395]\n",
      "cost:0.038219837376069515, weights:[0.14088083 0.63030258 0.44941728 0.42062022]\n",
      "cost:0.03625705947920125, weights:[0.13017233 0.63126414 0.44804201 0.41674593]\n",
      "cost:0.034440331471464886, weights:[0.11992807 0.63216369 0.44671325 0.41293886]\n",
      "cost:0.0327583253506669, weights:[0.1101287  0.63300401 0.44542927 0.409197  ]\n",
      "cost:0.03120060394049497, weights:[0.1007557  0.63378788 0.44418847 0.40551848]\n",
      "cost:0.029757550479495687, weights:[0.09179134 0.63451796 0.44298938 0.40190158]\n",
      "cost:0.02842030379891145, weights:[0.08321865 0.63519685 0.44183061 0.39834463]\n",
      "cost:0.027180698637175375, weights:[0.07502138 0.63582707 0.44071083 0.39484607]\n",
      "cost:0.026031210680393328, weights:[0.06718392 0.636411   0.4396288  0.39140439]\n",
      "cost:0.024964905952977814, weights:[0.05969135 0.63695095 0.4385833  0.38801815]\n",
      "cost:0.023975394213302175, weights:[0.05252932 0.63744914 0.43757319 0.38468595]\n",
      "cost:0.02305678603695729, weights:[0.04568408 0.63790767 0.43659733 0.38140646]\n",
      "cost:0.02220365329549079, weights:[0.03914247 0.63832858 0.43565466 0.37817838]\n",
      "cost:0.021410992761708783, weights:[0.03289183 0.6387138  0.43474415 0.37500047]\n",
      "cost:0.02067419259394834, weights:[0.02692004 0.63906517 0.43386478 0.37187151]\n",
      "cost:0.0199890014713507, weights:[0.02121547 0.63938447 0.4330156  0.36879033]\n",
      "cost:0.01935150017022774, weights:[0.01576697 0.63967337 0.43219568 0.36575582]\n",
      "cost:0.01875807538824279, weights:[0.01056383 0.63993351 0.4314041  0.36276688]\n",
      "cost:0.018205395638437236, weights:[0.00559581 0.64016641 0.43064001 0.35982245]\n",
      "cost:0.017690389049231446, weights:[0.00085305 0.64037355 0.42990255 0.35692152]\n",
      "cost:0.01721022291950852, weights:[-0.00367388  0.64055634  0.42919091  0.35406309]\n",
      "cost:0.016762284889841123, weights:[-0.00799402  0.64071611  0.42850432  0.35124621]\n",
      "cost:0.01634416560192645, weights:[-0.01211607  0.64085414  0.427842    0.34846995]\n",
      "cost:0.015953642728427253, weights:[-0.01604834  0.64097167  0.42720322  0.34573341]\n",
      "cost:0.015588666264747177, weights:[-0.01979882  0.64106984  0.42658727  0.34303573]\n"
     ]
    },
    {
     "data": {
      "text/plain": [
       "(array([-0.02302516,  0.64114258,  0.42605186,  0.34064034]),\n",
       " -0.2838776809036757,\n",
       " 0.015280463451202672)"
      ]
     },
     "execution_count": 10,
     "metadata": {},
     "output_type": "execute_result"
    }
   ],
   "source": [
    "weights, bias, cost,  cost_list, epoch_list = batch_gradient_descent(scaled_features, scaled_SOC.reshape(scaled_SOC.shape[0],), 500, 0.01)\n",
    "\n",
    "weights, bias, cost"
   ]
  },
  {
   "cell_type": "code",
   "execution_count": 11,
   "id": "15d46167",
   "metadata": {},
   "outputs": [
    {
     "data": {
      "text/plain": [
       "[<matplotlib.lines.Line2D at 0x1e2177b0880>]"
      ]
     },
     "execution_count": 11,
     "metadata": {},
     "output_type": "execute_result"
    },
    {
     "data": {
      "image/png": "[encoded data removed]",
      "text/plain": [
       "<Figure size 640x480 with 1 Axes>"
      ]
     },
     "metadata": {},
     "output_type": "display_data"
    }
   ],
   "source": [
    "plt.xlabel(\"epoch\")\n",
    "plt.ylabel(\"cost\")\n",
    "plt.plot(epoch_list, cost_list)"
   ]
  },
  {
   "cell_type": "code",
   "execution_count": 12,
   "id": "5fe8932b",
   "metadata": {},
   "outputs": [
    {
     "data": {
      "text/plain": [
       "array([-0.02302516,  0.64114258,  0.42605186,  0.34064034])"
      ]
     },
     "execution_count": 12,
     "metadata": {},
     "output_type": "execute_result"
    }
   ],
   "source": [
    "weights"
   ]
  },
  {
   "cell_type": "code",
   "execution_count": 13,
   "id": "00a51eeb",
   "metadata": {},
   "outputs": [
    {
     "name": "stderr",
     "output_type": "stream",
     "text": [
      "C:\\ProgramData\\Anaconda3\\lib\\site-packages\\sklearn\\base.py:450: UserWarning: X does not have valid feature names, but MinMaxScaler was fitted with feature names\n",
      "  warnings.warn(\n"
     ]
    },
    {
     "data": {
      "text/plain": [
       "array([0.        , 1.        , 0.44444444, 0.        ])"
      ]
     },
     "execution_count": 13,
     "metadata": {},
     "output_type": "execute_result"
    }
   ],
   "source": [
    "sx.transform([[1, 4.2, 50, 20]])[0]"
   ]
  },
  {
   "cell_type": "code",
   "execution_count": 14,
   "id": "1326a624",
   "metadata": {},
   "outputs": [
    {
     "data": {
      "text/plain": [
       "array([[100. ,  57.5,  23.5,  15. ]])"
      ]
     },
     "execution_count": 14,
     "metadata": {},
     "output_type": "execute_result"
    }
   ],
   "source": [
    "sy.inverse_transform([[1,0.5,0.1,0]])"
   ]
  },
  {
   "cell_type": "code",
   "execution_count": 15,
   "id": "1cd20a1a",
   "metadata": {},
   "outputs": [],
   "source": [
    "def predict(time, voltage, current, temperature, weights, bias):\n",
    "    scaled_features = sx.transform([[time, voltage, current, temperature]])[0]\n",
    "    \n",
    "    #scaled_SOC = np.dot(weights, scaled_features.T) + bias\n",
    "    scaled_SOC = weights[0]*scaled_features[0] + weights[1]*scaled_features[1] + weights[2]*scaled_features[2] + weights[3]*scaled_features[3]+ bias\n",
    "    return sy.inverse_transform([[scaled_SOC]])[0][0]\n"
   ]
  },
  {
   "cell_type": "code",
   "execution_count": 16,
   "id": "439bad10",
   "metadata": {},
   "outputs": [
    {
     "name": "stderr",
     "output_type": "stream",
     "text": [
      "C:\\ProgramData\\Anaconda3\\lib\\site-packages\\sklearn\\base.py:450: UserWarning: X does not have valid feature names, but MinMaxScaler was fitted with feature names\n",
      "  warnings.warn(\n"
     ]
    },
    {
     "data": {
      "text/plain": [
       "82.14454427476392"
      ]
     },
     "execution_count": 16,
     "metadata": {},
     "output_type": "execute_result"
    }
   ],
   "source": [
    "predict(1, 4.2, 50, 25, weights, bias)"
   ]
  },
  {
   "cell_type": "code",
   "execution_count": 17,
   "id": "fba511ef",
   "metadata": {},
   "outputs": [
    {
     "name": "stderr",
     "output_type": "stream",
     "text": [
      "C:\\ProgramData\\Anaconda3\\lib\\site-packages\\sklearn\\base.py:450: UserWarning: X does not have valid feature names, but MinMaxScaler was fitted with feature names\n",
      "  warnings.warn(\n"
     ]
    },
    {
     "data": {
      "text/plain": [
       "71.24512036344345"
      ]
     },
     "execution_count": 17,
     "metadata": {},
     "output_type": "execute_result"
    }
   ],
   "source": [
    "predict(1, 4.0, 50, 25, weights, bias)"
   ]
  },
  {
   "cell_type": "code",
   "execution_count": 18,
   "id": "e46f3383",
   "metadata": {},
   "outputs": [],
   "source": [
    "import random"
   ]
  },
  {
   "cell_type": "code",
   "execution_count": 19,
   "id": "41b854c7",
   "metadata": {},
   "outputs": [
    {
     "data": {
      "text/plain": [
       "7"
      ]
     },
     "execution_count": 19,
     "metadata": {},
     "output_type": "execute_result"
    }
   ],
   "source": [
    "random.randint(0,10)"
   ]
  },
  {
   "cell_type": "code",
   "execution_count": 28,
   "id": "34311fc9",
   "metadata": {},
   "outputs": [],
   "source": [
    "def stochastic_gradient_descent(x, y_true, epochs, learning_rate):\n",
    "    number_of_features = x.shape[1]\n",
    "    weights = np.ones(shape=(number_of_features))\n",
    "    bias = 0\n",
    "    total_samples = x.shape[0]\n",
    "    cost_list = []\n",
    "    epoch_list = []\n",
    "                      \n",
    "    for i in range(epochs):\n",
    "        random_index = random.randint(0, total_samples -1)\n",
    "        sample_x  = x[random_index]\n",
    "        sample_y  = y_true[random_index]\n",
    "        y_predicted = np.dot(weights, sample_x.T) + bias\n",
    "                      \n",
    "        weight_gradient = -(2/total_samples)*(sample_x.T.dot(sample_y-y_predicted))\n",
    "        bias_gradient = -(2/total_samples)*(sample_y-y_predicted)\n",
    "                      \n",
    "        weights = weights -  learning_rate*weight_gradient\n",
    "        bias = bias - learning_rate*bias_gradient\n",
    "        \n",
    "        cost = np.square(sample_y-y_predicted)\n",
    "        \n",
    "        if i%100==0:\n",
    "            cost_list.append(cost)\n",
    "            epoch_list.append(i)\n",
    "    return weights, bias, cost, cost_list, epoch_list"
   ]
  },
  {
   "cell_type": "code",
   "execution_count": 49,
   "id": "fc4a27f9",
   "metadata": {},
   "outputs": [],
   "source": [
    "weights, bias, cost,  cost_list, epoch_list = stochastic_gradient_descent(scaled_features, scaled_SOC.reshape(scaled_SOC.shape[0],), 5000, 0.01)"
   ]
  },
  {
   "cell_type": "code",
   "execution_count": 50,
   "id": "3cbc1e5f",
   "metadata": {},
   "outputs": [
    {
     "data": {
      "text/plain": [
       "(array([0.11224752, 0.63841217, 0.45249627, 0.40615203]),\n",
       " -0.3977146113961393,\n",
       " 0.010560009195454011)"
      ]
     },
     "execution_count": 50,
     "metadata": {},
     "output_type": "execute_result"
    }
   ],
   "source": [
    "weights, bias, cost"
   ]
  },
  {
   "cell_type": "code",
   "execution_count": 51,
   "id": "b5670899",
   "metadata": {},
   "outputs": [
    {
     "data": {
      "text/plain": [
       "[<matplotlib.lines.Line2D at 0x1e21823b0a0>]"
      ]
     },
     "execution_count": 51,
     "metadata": {},
     "output_type": "execute_result"
    },
    {
     "data": {
      "image/png": "[encoded data removed]",
      "text/plain": [
       "<Figure size 640x480 with 1 Axes>"
      ]
     },
     "metadata": {},
     "output_type": "display_data"
    }
   ],
   "source": [
    "plt.xlabel(\"epoch\")\n",
    "plt.ylabel(\"cost\")\n",
    "plt.plot(epoch_list, cost_list)"
   ]
  },
  {
   "cell_type": "code",
   "execution_count": 52,
   "id": "273eab9a",
   "metadata": {},
   "outputs": [
    {
     "name": "stderr",
     "output_type": "stream",
     "text": [
      "C:\\ProgramData\\Anaconda3\\lib\\site-packages\\sklearn\\base.py:450: UserWarning: X does not have valid feature names, but MinMaxScaler was fitted with feature names\n",
      "  warnings.warn(\n"
     ]
    },
    {
     "data": {
      "text/plain": [
       "38.40923787638809"
      ]
     },
     "execution_count": 52,
     "metadata": {},
     "output_type": "execute_result"
    }
   ],
   "source": [
    "predict(1, 4, 100, 15, weights, bias)"
   ]
  },
  {
   "cell_type": "code",
   "execution_count": 58,
   "id": "71323b35",
   "metadata": {},
   "outputs": [],
   "source": [
    "def mbatch_gradient_descent(x, y_true, epochs, learning_rate, batch_size):\n",
    "    number_of_features = x.shape[1]\n",
    "    weights = np.ones(shape=(number_of_features))\n",
    "    bias = 0\n",
    "    total_samples = x.shape[0]\n",
    "    cost_list = []\n",
    "    epoch_list = []\n",
    "                      \n",
    "    for i in range(epochs):\n",
    "        j = 0\n",
    "        for j in range(batch_size):\n",
    "            random_index = random.randint(0, total_samples -1)\n",
    "            sample_x  = x[random_index]\n",
    "            sample_y  = y_true[random_index]\n",
    "            y_predicted = np.dot(weights, sample_x.T) + bias\n",
    "\n",
    "            weight_gradient = -(2/total_samples)*(sample_x.T.dot(sample_y-y_predicted))\n",
    "            bias_gradient = -(2/total_samples)*(sample_y-y_predicted)\n",
    "\n",
    "            weights = weights -  learning_rate*weight_gradient\n",
    "            bias = bias - learning_rate*bias_gradient\n",
    "        \n",
    "            cost = np.square(sample_y-y_predicted)\n",
    "        \n",
    "        if i%10==0:\n",
    "            cost_list.append(cost)\n",
    "            epoch_list.append(i)\n",
    "    return weights, bias, cost, cost_list, epoch_list"
   ]
  },
  {
   "cell_type": "code",
   "execution_count": 59,
   "id": "51ae4aec",
   "metadata": {},
   "outputs": [],
   "source": [
    "weights, bias, cost,  cost_list, epoch_list = mbatch_gradient_descent(scaled_features, scaled_SOC.reshape(scaled_SOC.shape[0],), 500, 0.01, 5)"
   ]
  },
  {
   "cell_type": "code",
   "execution_count": 60,
   "id": "41bfe8e6",
   "metadata": {},
   "outputs": [
    {
     "data": {
      "text/plain": [
       "(array([0.29468611, 0.61792928, 0.47129083, 0.4672303 ]),\n",
       " -0.519441692702566,\n",
       " 0.01933210143032289)"
      ]
     },
     "execution_count": 60,
     "metadata": {},
     "output_type": "execute_result"
    }
   ],
   "source": [
    "weights, bias, cost"
   ]
  },
  {
   "cell_type": "code",
   "execution_count": 61,
   "id": "111b1d31",
   "metadata": {},
   "outputs": [
    {
     "data": {
      "text/plain": [
       "[<matplotlib.lines.Line2D at 0x1e2182826d0>]"
      ]
     },
     "execution_count": 61,
     "metadata": {},
     "output_type": "execute_result"
    },
    {
     "data": {
      "image/png": "[encoded data removed]",
      "text/plain": [
       "<Figure size 640x480 with 1 Axes>"
      ]
     },
     "metadata": {},
     "output_type": "display_data"
    }
   ],
   "source": [
    "plt.xlabel(\"epoch\")\n",
    "plt.ylabel(\"cost\")\n",
    "plt.plot(epoch_list, cost_list)"
   ]
  },
  {
   "cell_type": "code",
   "execution_count": 62,
   "id": "24163464",
   "metadata": {},
   "outputs": [
    {
     "name": "stderr",
     "output_type": "stream",
     "text": [
      "C:\\ProgramData\\Anaconda3\\lib\\site-packages\\sklearn\\base.py:450: UserWarning: X does not have valid feature names, but MinMaxScaler was fitted with feature names\n",
      "  warnings.warn(\n"
     ]
    },
    {
     "data": {
      "text/plain": [
       "24.558814306648102"
      ]
     },
     "execution_count": 62,
     "metadata": {},
     "output_type": "execute_result"
    }
   ],
   "source": [
    "predict(1, 4, 100, 15, weights, bias)"
   ]
  },
  {
   "cell_type": "code",
   "execution_count": null,
   "id": "aabd2eea",
   "metadata": {},
   "outputs": [],
   "source": []
  }
 ],
 "metadata": {
  "kernelspec": {
   "display_name": "Python 3 (ipykernel)",
   "language": "python",
   "name": "python3"
  },
  "language_info": {
   "codemirror_mode": {
    "name": "ipython",
    "version": 3
   },
   "file_extension": ".py",
   "mimetype": "text/x-python",
   "name": "python",
   "nbconvert_exporter": "python",
   "pygments_lexer": "ipython3",
   "version": "3.9.13"
  }
 },
 "nbformat": 4,
 "nbformat_minor": 5
}
